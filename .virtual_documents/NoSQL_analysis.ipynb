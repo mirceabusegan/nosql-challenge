





from pymongo import MongoClient
import pandas as pd
from pprint import pprint


# Create an instance of MongoClient
mongo = MongoClient(port=27017)


# assign the uk_food database to a variable name
db = mongo['uk_food']


# review the collections in our database
print(db.list_collection_names())


# assign the collection to a variable
establishments = db['establishments']








# Find the establishments with a hygiene score of 20
query = {'scores.Hygiene': 20}
print("Number of documents in result: ", establishments.count_documents(query))
print("First result:")
results = establishments.find(query)
pprint(results[0])



# Convert the result to a Pandas DataFrame
hygiene_20 = establishments.find(query)
hygiene_20_df = pd.DataFrame(hygiene_20)
# Display the number of rows in the DataFrame
print("Documents in DataFrame: ", len(hygiene_20_df))
# Display the first 10 rows of the DataFrame
hygiene_20_df.head(10)






# Find the establishments with London as the Local Authority and has a RatingValue greater than or equal to 4.
query = {'LocalAuthorityName': {'$regex':'London'}, 'RatingValue': {'$gte': 4}}
# Use count_documents to display the number of documents in the result
print("Number of documents in result: ", establishments.count_documents(query))
# Display the first document in the results using pprint
print("First result:")
results = establishments.find(query)
pprint(results[0])



# Convert the result to a Pandas DataFrame
london_4plus = establishments.find(query)
london_4plus_df = pd.DataFrame(london_4plus)
# Display the number of rows in the DataFrame
print("Documents in DataFrame: ", len(london_4plus_df))
# Display the first 10 rows of the DataFrame
london_4plus_df.head(10)






# Search within 0.01 degree on either side of the latitude and longitude.
# Rating value must equal 5
# Sort by hygiene score
degree_search = 0.01
latitude = 51.49014200
longitude = 0.08384000

query = {'geocode.latitude': {'$gte':latitude-degree_search, '$lte':latitude+degree_search},
         'geocode.longitude': {'$gte': longitude-degree_search, '$lte': longitude+degree_search},
         'RatingValue': 5}
sort = [('scores.Hygiene', 1)]
limit = 5
# Print the results
pprint(list(establishments.find(query).sort(sort).limit(limit)))



# Convert result to Pandas DataFrame
near_penang_flavours = establishments.find(query).sort(sort).limit(limit)
near_penang_flavours_df = pd.DataFrame(near_penang_flavours)
near_penang_flavours_df





# Create a pipeline that:
# 1. Matches establishments with a hygiene score of 0
# 2. Groups the matches by Local Authority
# 3. Sorts the matches from highest to lowest
pipeline = [
    {'$match': {'scores.Hygiene': 0}},
    {'$group': {'_id': "$LocalAuthorityName", 'count': { '$sum': 1 }}},
    {'$sort': { 'count': -1 }}
]

results = list(establishments.aggregate(pipeline))

# Print the number of documents in the result
print("Number of documents in result: ", len(results))

# Print the first 10 results
pprint(results[0:10])



# Convert the result to a Pandas DataFrame
result_df = pd.DataFrame(results)

# Display the number of rows in the DataFrame
print("Rows in DataFrame: ", len(result_df))

# Display the first 10 rows of the DataFrame
result_df.head(10)



